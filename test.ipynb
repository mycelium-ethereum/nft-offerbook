{
 "cells": [
  {
   "cell_type": "code",
   "execution_count": 1,
   "metadata": {},
   "outputs": [],
   "source": [
    "from utils import *"
   ]
  },
  {
   "cell_type": "code",
   "execution_count": 2,
   "metadata": {},
   "outputs": [],
   "source": [
    "wyvern = Contract(\"0x7Be8076f4EA4A4AD08075C2508e481d6C946D12b\")"
   ]
  },
  {
   "cell_type": "code",
   "execution_count": 3,
   "metadata": {},
   "outputs": [
    {
     "data": {
      "text/plain": [
       "[<Function name()>,\n",
       " <Function tokenTransferProxy()>,\n",
       " <Function staticCall(address,bytes,bytes)>,\n",
       " <Function changeMinimumMakerProtocolFee(uint256)>,\n",
       " <Function changeMinimumTakerProtocolFee(uint256)>,\n",
       " <Function guardedArrayReplace(bytes,bytes,bytes)>,\n",
       " <Function minimumTakerProtocolFee()>,\n",
       " <Function codename()>,\n",
       " <Function testCopyAddress(address)>,\n",
       " <Function testCopy(bytes)>,\n",
       " <Function calculateCurrentPrice_(address[7],uint256[9],uint8,uint8,uint8,uint8,bytes,bytes,bytes)>,\n",
       " <Function changeProtocolFeeRecipient(address)>,\n",
       " <Function version()>,\n",
       " <Function orderCalldataCanMatch(bytes,bytes,bytes,bytes)>,\n",
       " <Function validateOrder_(address[7],uint256[9],uint8,uint8,uint8,uint8,bytes,bytes,bytes,uint8,bytes32,bytes32)>,\n",
       " <Function calculateFinalPrice(uint8,uint8,uint256,uint256,uint256,uint256)>,\n",
       " <Function protocolFeeRecipient()>,\n",
       " <Function renounceOwnership()>,\n",
       " <Function hashOrder_(address[7],uint256[9],uint8,uint8,uint8,uint8,bytes,bytes,bytes)>,\n",
       " <Function ordersCanMatch_(address[14],uint256[18],uint8[8],bytes,bytes,bytes,bytes,bytes,bytes)>,\n",
       " <Function approveOrder_(address[7],uint256[9],uint8,uint8,uint8,uint8,bytes,bytes,bytes,bool)>,\n",
       " <Function registry()>,\n",
       " <Function minimumMakerProtocolFee()>,\n",
       " <Function hashToSign_(address[7],uint256[9],uint8,uint8,uint8,uint8,bytes,bytes,bytes)>,\n",
       " <Function cancelledOrFinalized(bytes32)>,\n",
       " <Function owner()>,\n",
       " <Function exchangeToken()>,\n",
       " <Function cancelOrder_(address[7],uint256[9],uint8,uint8,uint8,uint8,bytes,bytes,bytes,uint8,bytes32,bytes32)>,\n",
       " <Function atomicMatch_(address[14],uint256[18],uint8[8],bytes,bytes,bytes,bytes,bytes,bytes,uint8[2],bytes32[5])>,\n",
       " <Function validateOrderParameters_(address[7],uint256[9],uint8,uint8,uint8,uint8,bytes,bytes,bytes)>,\n",
       " <Function INVERSE_BASIS_POINT()>,\n",
       " <Function calculateMatchPrice_(address[14],uint256[18],uint8[8],bytes,bytes,bytes,bytes,bytes,bytes)>,\n",
       " <Function approvedOrders(bytes32)>,\n",
       " <Function transferOwnership(address)>]"
      ]
     },
     "execution_count": 3,
     "metadata": {},
     "output_type": "execute_result"
    }
   ],
   "source": [
    "wyvern.contract.all_functions()"
   ]
  },
  {
   "cell_type": "code",
   "execution_count": null,
   "metadata": {},
   "outputs": [],
   "source": []
  }
 ],
 "metadata": {
  "interpreter": {
   "hash": "d68bc79258da8b11f08469e157ca82bbfca97a5ac1226e9b884cb06b9e3d3019"
  },
  "kernelspec": {
   "display_name": "Python 3.7.9 64-bit ('nft-offerbook-kEqP14YW': pipenv)",
   "name": "python3"
  },
  "language_info": {
   "codemirror_mode": {
    "name": "ipython",
    "version": 3
   },
   "file_extension": ".py",
   "mimetype": "text/x-python",
   "name": "python",
   "nbconvert_exporter": "python",
   "pygments_lexer": "ipython3",
   "version": "3.7.9"
  },
  "orig_nbformat": 4
 },
 "nbformat": 4,
 "nbformat_minor": 2
}
